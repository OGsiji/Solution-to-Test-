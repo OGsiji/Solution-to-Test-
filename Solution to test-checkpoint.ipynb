{
 "cells": [
  {
   "cell_type": "code",
   "execution_count": 3,
   "metadata": {},
   "outputs": [
    {
     "name": "stdout",
     "output_type": "stream",
     "text": [
      "1\n",
      "1 2\n",
      "3713081631934410656\n"
     ]
    }
   ],
   "source": [
    "#Given by the question we are to first denote the number of elements in the n-separated integer .\n",
    "\n",
    "#The int() function returns an integer object of the number while The input function is to defines the number\n",
    "#The overall function defines the total number of integer object we need for the function\n",
    "number = int(input())  \n",
    "\n",
    "#The list function specified below allows us to list the n-separated integer\n",
    "list = []     \n",
    "\n",
    "#Using the for loop we can iterate through the total number of integer object we need for the function\n",
    "#the split function makes us to sperate the total number of integer object in a distinct form that is '2'\n",
    "for x in input().split():    \n",
    "    \n",
    "#Now we can append the list with the n-space-separated integer using the append function.\n",
    "#We use the int() function also which returns the integer object of the n-space-separated integer '1' and '2'\n",
    "    list.append(int(x))\n",
    "    \n",
    "#By tupling the values we are converting the list into immutable objects.\n",
    "tuple = tuple(li)  \n",
    "\n",
    "#we can then hash the tuple using the hash() function which we can then print.\n",
    "print(hash(tuple)) \n",
    "\n"
   ]
  },
  {
   "cell_type": "code",
   "execution_count": null,
   "metadata": {},
   "outputs": [],
   "source": []
  }
 ],
 "metadata": {
  "kernelspec": {
   "display_name": "Python 3",
   "language": "python",
   "name": "python3"
  },
  "language_info": {
   "codemirror_mode": {
    "name": "ipython",
    "version": 3
   },
   "file_extension": ".py",
   "mimetype": "text/x-python",
   "name": "python",
   "nbconvert_exporter": "python",
   "pygments_lexer": "ipython3",
   "version": "3.7.3"
  }
 },
 "nbformat": 4,
 "nbformat_minor": 2
}
